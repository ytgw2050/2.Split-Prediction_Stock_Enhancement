{
 "cells": [
  {
   "cell_type": "markdown",
   "id": "97950b8c",
   "metadata": {},
   "source": [
    "# Import "
   ]
  },
  {
   "cell_type": "code",
   "execution_count": 7,
   "id": "63a30595",
   "metadata": {},
   "outputs": [],
   "source": [
    "import os\n",
    "import random\n",
    "import datetime\n",
    "import shutil\n",
    "\n",
    "import numpy as np\n",
    "import pandas as pd\n",
    "import matplotlib.pyplot as plt\n",
    "import seaborn as sns\n",
    "\n",
    "import tensorflow as tf\n",
    "from tensorflow.keras.layers import (Conv2D, Conv2DTranspose, Dense, Flatten, \n",
    "                                    Dropout, BatchNormalization, Reshape, LeakyReLU, LSTM)\n",
    "from tensorflow.keras.models import Model, Sequential\n",
    "from tensorflow.keras.callbacks import ReduceLROnPlateau, ModelCheckpoint\n",
    "from tensorflow.keras.datasets import cifar100\n",
    "from tensorflow.keras import backend as K"
   ]
  },
  {
   "cell_type": "code",
   "execution_count": 8,
   "id": "eca4cf43",
   "metadata": {},
   "outputs": [],
   "source": [
    "import shutil\n",
    "def remove_all_file(filepath):\n",
    "    if os.path.exists(filepath):\n",
    "        shutil.rmtree(filepath, ignore_errors=True)\n",
    "        os.makedirs(filepath)\n",
    "    else:\n",
    "        os.makedirs(filepath)"
   ]
  },
  {
   "cell_type": "markdown",
   "id": "2c74a7e7",
   "metadata": {},
   "source": [
    "# Data"
   ]
  },
  {
   "cell_type": "code",
   "execution_count": 9,
   "id": "6f0fd08e",
   "metadata": {
    "scrolled": true
   },
   "outputs": [
    {
     "ename": "FileNotFoundError",
     "evalue": "[Errno 2] No such file or directory: 'stock_data/image_train/outputSubdivision/oneDayChart'",
     "output_type": "error",
     "traceback": [
      "\u001b[0;31m---------------------------------------------------------------------------\u001b[0m",
      "\u001b[0;31mFileNotFoundError\u001b[0m                         Traceback (most recent call last)",
      "Cell \u001b[0;32mIn[9], line 10\u001b[0m\n\u001b[1;32m      1\u001b[0m \u001b[38;5;28;01mfrom\u001b[39;00m \u001b[38;5;21;01mkeras\u001b[39;00m\u001b[38;5;21;01m.\u001b[39;00m\u001b[38;5;21;01mpreprocessing\u001b[39;00m\u001b[38;5;21;01m.\u001b[39;00m\u001b[38;5;21;01mimage\u001b[39;00m \u001b[38;5;28;01mimport\u001b[39;00m ImageDataGenerator\n\u001b[1;32m      3\u001b[0m import_train_datagen \u001b[38;5;241m=\u001b[39m ImageDataGenerator(rescale \u001b[38;5;241m=\u001b[39m \u001b[38;5;241m1.\u001b[39m\u001b[38;5;241m/\u001b[39m\u001b[38;5;241m255\u001b[39m)  \u001b[38;5;66;03m# 이미지 데이터 전처리\u001b[39;00m\n\u001b[0;32m---> 10\u001b[0m import_training_set_oneDayChart \u001b[38;5;241m=\u001b[39m import_train_datagen\u001b[38;5;241m.\u001b[39mflow_from_directory(\u001b[38;5;124m\"\u001b[39m\u001b[38;5;124mstock_data/image_train/outputSubdivision/oneDayChart\u001b[39m\u001b[38;5;124m\"\u001b[39m,\n\u001b[1;32m     11\u001b[0m                                                 shuffle\u001b[38;5;241m=\u001b[39m \u001b[38;5;28;01mTrue\u001b[39;00m,\n\u001b[1;32m     12\u001b[0m                                                 seed \u001b[38;5;241m=\u001b[39m \u001b[38;5;241m17\u001b[39m,\n\u001b[1;32m     13\u001b[0m                                                 batch_size \u001b[38;5;241m=\u001b[39m \u001b[38;5;241m226088\u001b[39m,\n\u001b[1;32m     14\u001b[0m                                                  target_size\u001b[38;5;241m=\u001b[39m(\u001b[38;5;241m28\u001b[39m,\u001b[38;5;241m44\u001b[39m),\n\u001b[1;32m     15\u001b[0m                                                  class_mode \u001b[38;5;241m=\u001b[39m \u001b[38;5;124m'\u001b[39m\u001b[38;5;124minput\u001b[39m\u001b[38;5;124m'\u001b[39m)\n\u001b[1;32m     20\u001b[0m import_test_set_oneDayChart \u001b[38;5;241m=\u001b[39m import_train_datagen\u001b[38;5;241m.\u001b[39mflow_from_directory(\u001b[38;5;124m\"\u001b[39m\u001b[38;5;124mstock_data/image_test/outputSubdivision/oneDayChart\u001b[39m\u001b[38;5;124m\"\u001b[39m,\n\u001b[1;32m     21\u001b[0m                                                 shuffle\u001b[38;5;241m=\u001b[39m \u001b[38;5;28;01mTrue\u001b[39;00m,\n\u001b[1;32m     22\u001b[0m                                                 seed \u001b[38;5;241m=\u001b[39m \u001b[38;5;241m7\u001b[39m,\n\u001b[1;32m     23\u001b[0m                                                 batch_size \u001b[38;5;241m=\u001b[39m \u001b[38;5;241m53859\u001b[39m,\n\u001b[1;32m     24\u001b[0m                                                  target_size\u001b[38;5;241m=\u001b[39m(\u001b[38;5;241m28\u001b[39m, \u001b[38;5;241m44\u001b[39m),\n\u001b[1;32m     25\u001b[0m                                                  class_mode \u001b[38;5;241m=\u001b[39m \u001b[38;5;124m'\u001b[39m\u001b[38;5;124minput\u001b[39m\u001b[38;5;124m'\u001b[39m)\n",
      "File \u001b[0;32m~/miniconda3/envs/kaist/lib/python3.11/site-packages/keras/src/preprocessing/image.py:1648\u001b[0m, in \u001b[0;36mImageDataGenerator.flow_from_directory\u001b[0;34m(self, directory, target_size, color_mode, classes, class_mode, batch_size, shuffle, seed, save_to_dir, save_prefix, save_format, follow_links, subset, interpolation, keep_aspect_ratio)\u001b[0m\n\u001b[1;32m   1562\u001b[0m \u001b[38;5;28;01mdef\u001b[39;00m \u001b[38;5;21mflow_from_directory\u001b[39m(\n\u001b[1;32m   1563\u001b[0m     \u001b[38;5;28mself\u001b[39m,\n\u001b[1;32m   1564\u001b[0m     directory,\n\u001b[0;32m   (...)\u001b[0m\n\u001b[1;32m   1578\u001b[0m     keep_aspect_ratio\u001b[38;5;241m=\u001b[39m\u001b[38;5;28;01mFalse\u001b[39;00m,\n\u001b[1;32m   1579\u001b[0m ):\n\u001b[1;32m   1580\u001b[0m \u001b[38;5;250m    \u001b[39m\u001b[38;5;124;03m\"\"\"Takes the path to a directory & generates batches of augmented data.\u001b[39;00m\n\u001b[1;32m   1581\u001b[0m \n\u001b[1;32m   1582\u001b[0m \u001b[38;5;124;03m    Args:\u001b[39;00m\n\u001b[0;32m   (...)\u001b[0m\n\u001b[1;32m   1646\u001b[0m \u001b[38;5;124;03m            and `y` is a numpy array of corresponding labels.\u001b[39;00m\n\u001b[1;32m   1647\u001b[0m \u001b[38;5;124;03m    \"\"\"\u001b[39;00m\n\u001b[0;32m-> 1648\u001b[0m     \u001b[38;5;28;01mreturn\u001b[39;00m DirectoryIterator(\n\u001b[1;32m   1649\u001b[0m         directory,\n\u001b[1;32m   1650\u001b[0m         \u001b[38;5;28mself\u001b[39m,\n\u001b[1;32m   1651\u001b[0m         target_size\u001b[38;5;241m=\u001b[39mtarget_size,\n\u001b[1;32m   1652\u001b[0m         color_mode\u001b[38;5;241m=\u001b[39mcolor_mode,\n\u001b[1;32m   1653\u001b[0m         keep_aspect_ratio\u001b[38;5;241m=\u001b[39mkeep_aspect_ratio,\n\u001b[1;32m   1654\u001b[0m         classes\u001b[38;5;241m=\u001b[39mclasses,\n\u001b[1;32m   1655\u001b[0m         class_mode\u001b[38;5;241m=\u001b[39mclass_mode,\n\u001b[1;32m   1656\u001b[0m         data_format\u001b[38;5;241m=\u001b[39m\u001b[38;5;28mself\u001b[39m\u001b[38;5;241m.\u001b[39mdata_format,\n\u001b[1;32m   1657\u001b[0m         batch_size\u001b[38;5;241m=\u001b[39mbatch_size,\n\u001b[1;32m   1658\u001b[0m         shuffle\u001b[38;5;241m=\u001b[39mshuffle,\n\u001b[1;32m   1659\u001b[0m         seed\u001b[38;5;241m=\u001b[39mseed,\n\u001b[1;32m   1660\u001b[0m         save_to_dir\u001b[38;5;241m=\u001b[39msave_to_dir,\n\u001b[1;32m   1661\u001b[0m         save_prefix\u001b[38;5;241m=\u001b[39msave_prefix,\n\u001b[1;32m   1662\u001b[0m         save_format\u001b[38;5;241m=\u001b[39msave_format,\n\u001b[1;32m   1663\u001b[0m         follow_links\u001b[38;5;241m=\u001b[39mfollow_links,\n\u001b[1;32m   1664\u001b[0m         subset\u001b[38;5;241m=\u001b[39msubset,\n\u001b[1;32m   1665\u001b[0m         interpolation\u001b[38;5;241m=\u001b[39minterpolation,\n\u001b[1;32m   1666\u001b[0m         dtype\u001b[38;5;241m=\u001b[39m\u001b[38;5;28mself\u001b[39m\u001b[38;5;241m.\u001b[39mdtype,\n\u001b[1;32m   1667\u001b[0m     )\n",
      "File \u001b[0;32m~/miniconda3/envs/kaist/lib/python3.11/site-packages/keras/src/preprocessing/image.py:563\u001b[0m, in \u001b[0;36mDirectoryIterator.__init__\u001b[0;34m(self, directory, image_data_generator, target_size, color_mode, classes, class_mode, batch_size, shuffle, seed, data_format, save_to_dir, save_prefix, save_format, follow_links, subset, interpolation, keep_aspect_ratio, dtype)\u001b[0m\n\u001b[1;32m    561\u001b[0m \u001b[38;5;28;01mif\u001b[39;00m \u001b[38;5;129;01mnot\u001b[39;00m classes:\n\u001b[1;32m    562\u001b[0m     classes \u001b[38;5;241m=\u001b[39m []\n\u001b[0;32m--> 563\u001b[0m     \u001b[38;5;28;01mfor\u001b[39;00m subdir \u001b[38;5;129;01min\u001b[39;00m \u001b[38;5;28msorted\u001b[39m(os\u001b[38;5;241m.\u001b[39mlistdir(directory)):\n\u001b[1;32m    564\u001b[0m         \u001b[38;5;28;01mif\u001b[39;00m os\u001b[38;5;241m.\u001b[39mpath\u001b[38;5;241m.\u001b[39misdir(os\u001b[38;5;241m.\u001b[39mpath\u001b[38;5;241m.\u001b[39mjoin(directory, subdir)):\n\u001b[1;32m    565\u001b[0m             classes\u001b[38;5;241m.\u001b[39mappend(subdir)\n",
      "\u001b[0;31mFileNotFoundError\u001b[0m: [Errno 2] No such file or directory: 'stock_data/image_train/outputSubdivision/oneDayChart'"
     ]
    }
   ],
   "source": [
    "# 추후 kb api 통해 데이터 전처리\n",
    "\n",
    "from keras.preprocessing.image import ImageDataGenerator\n",
    "\n",
    "import_train_datagen = ImageDataGenerator(rescale = 1./255)  # 이미지 데이터 전처리\n",
    "\n",
    "\n",
    "                                   \n",
    "\n",
    "\n",
    "\n",
    "import_training_set_oneDayChart = import_train_datagen.flow_from_directory(\"stock_data/image_train/outputSubdivision/oneDayChart\",\n",
    "                                                shuffle= True,\n",
    "                                                seed = 17,\n",
    "                                                batch_size = 226088,\n",
    "                                                 target_size=(28,44),\n",
    "                                                 class_mode = 'input')\n",
    "                \n",
    "                                   \n",
    "\n",
    "\n",
    "import_test_set_oneDayChart = import_train_datagen.flow_from_directory(\"stock_data/image_test/outputSubdivision/oneDayChart\",\n",
    "                                                shuffle= True,\n",
    "                                                seed = 7,\n",
    "                                                batch_size = 53859,\n",
    "                                                 target_size=(28, 44),\n",
    "                                                 class_mode = 'input')\n",
    "\n",
    "\n"
   ]
  },
  {
   "cell_type": "code",
   "execution_count": 4,
   "id": "54a7cc03",
   "metadata": {},
   "outputs": [
    {
     "name": "stdout",
     "output_type": "stream",
     "text": [
      "1\n",
      "1\n",
      "1\n"
     ]
    }
   ],
   "source": [
    "trainX_oneDayChart = import_training_set_oneDayChart[0][0]\n",
    "#trainy_day = import_training_set_day[0][1]\n",
    "\n",
    "print(1)\n",
    "\n",
    "\n",
    "\n",
    "testX_oneDayChart = import_test_set_oneDayChart[0][0]\n",
    "#testy_day = import_test_set_day[0][1] \n",
    "\n",
    "print(1)\n",
    "\n",
    "\n",
    "train_data_oneDayChart = np.reshape(trainX_oneDayChart, (trainX_oneDayChart.shape))\n",
    "test_data_oneDayChart = np.reshape(testX_oneDayChart, (testX_oneDayChart.shape))\n",
    "\n",
    "print(1)\n",
    "\n",
    "\n",
    "\n"
   ]
  },
  {
   "cell_type": "markdown",
   "id": "9817eccd",
   "metadata": {},
   "source": [
    "# Model"
   ]
  },
  {
   "cell_type": "code",
   "execution_count": 17,
   "id": "8b222c5d",
   "metadata": {},
   "outputs": [
    {
     "name": "stdout",
     "output_type": "stream",
     "text": [
      "Model: \"model_20\"\n",
      "_________________________________________________________________\n",
      " Layer (type)                Output Shape              Param #   \n",
      "=================================================================\n",
      " input_21 (InputLayer)       [(None, 28, 44, 3)]       0         \n",
      "                                                                 \n",
      " conv2d_28 (Conv2D)          (None, 28, 44, 64)        1792      \n",
      "                                                                 \n",
      " batch_normalization_56 (Bat  (None, 28, 44, 64)       256       \n",
      " chNormalization)                                                \n",
      "                                                                 \n",
      " leaky_re_lu_56 (LeakyReLU)  (None, 28, 44, 64)        0         \n",
      "                                                                 \n",
      " conv2d_29 (Conv2D)          (None, 14, 22, 128)       73856     \n",
      "                                                                 \n",
      " batch_normalization_57 (Bat  (None, 14, 22, 128)      512       \n",
      " chNormalization)                                                \n",
      "                                                                 \n",
      " leaky_re_lu_57 (LeakyReLU)  (None, 14, 22, 128)       0         \n",
      "                                                                 \n",
      " conv2d_30 (Conv2D)          (None, 7, 11, 256)        295168    \n",
      "                                                                 \n",
      " batch_normalization_58 (Bat  (None, 7, 11, 256)       1024      \n",
      " chNormalization)                                                \n",
      "                                                                 \n",
      " leaky_re_lu_58 (LeakyReLU)  (None, 7, 11, 256)        0         \n",
      "                                                                 \n",
      " conv2d_31 (Conv2D)          (None, 4, 6, 512)         1180160   \n",
      "                                                                 \n",
      " batch_normalization_59 (Bat  (None, 4, 6, 512)        2048      \n",
      " chNormalization)                                                \n",
      "                                                                 \n",
      " leaky_re_lu_59 (LeakyReLU)  (None, 4, 6, 512)         0         \n",
      "                                                                 \n",
      " flatten_7 (Flatten)         (None, 12288)             0         \n",
      "                                                                 \n",
      " dense_14 (Dense)            (None, 4)                 49156     \n",
      "                                                                 \n",
      "=================================================================\n",
      "Total params: 1,603,972\n",
      "Trainable params: 1,602,052\n",
      "Non-trainable params: 1,920\n",
      "_________________________________________________________________\n",
      "Model: \"model_21\"\n",
      "_________________________________________________________________\n",
      " Layer (type)                Output Shape              Param #   \n",
      "=================================================================\n",
      " input_22 (InputLayer)       [(None, 4)]               0         \n",
      "                                                                 \n",
      " dense_15 (Dense)            (None, 39424)             197120    \n",
      "                                                                 \n",
      " reshape_7 (Reshape)         (None, 7, 11, 512)        0         \n",
      "                                                                 \n",
      " conv2d_transpose_35 (Conv2D  (None, 14, 22, 512)      2359808   \n",
      " Transpose)                                                      \n",
      "                                                                 \n",
      " batch_normalization_60 (Bat  (None, 14, 22, 512)      2048      \n",
      " chNormalization)                                                \n",
      "                                                                 \n",
      " leaky_re_lu_60 (LeakyReLU)  (None, 14, 22, 512)       0         \n",
      "                                                                 \n",
      " conv2d_transpose_36 (Conv2D  (None, 28, 44, 256)      1179904   \n",
      " Transpose)                                                      \n",
      "                                                                 \n",
      " batch_normalization_61 (Bat  (None, 28, 44, 256)      1024      \n",
      " chNormalization)                                                \n",
      "                                                                 \n",
      " leaky_re_lu_61 (LeakyReLU)  (None, 28, 44, 256)       0         \n",
      "                                                                 \n",
      " conv2d_transpose_37 (Conv2D  (None, 56, 88, 128)      295040    \n",
      " Transpose)                                                      \n",
      "                                                                 \n",
      " batch_normalization_62 (Bat  (None, 56, 88, 128)      512       \n",
      " chNormalization)                                                \n",
      "                                                                 \n",
      " leaky_re_lu_62 (LeakyReLU)  (None, 56, 88, 128)       0         \n",
      "                                                                 \n",
      " conv2d_transpose_38 (Conv2D  (None, 56, 88, 64)       73792     \n",
      " Transpose)                                                      \n",
      "                                                                 \n",
      " batch_normalization_63 (Bat  (None, 56, 88, 64)       256       \n",
      " chNormalization)                                                \n",
      "                                                                 \n",
      " leaky_re_lu_63 (LeakyReLU)  (None, 56, 88, 64)        0         \n",
      "                                                                 \n",
      " conv2d_transpose_39 (Conv2D  (None, 56, 88, 3)        1731      \n",
      " Transpose)                                                      \n",
      "                                                                 \n",
      "=================================================================\n",
      "Total params: 4,111,235\n",
      "Trainable params: 4,109,315\n",
      "Non-trainable params: 1,920\n",
      "_________________________________________________________________\n"
     ]
    }
   ],
   "source": [
    "import tensorflow  as tf\n",
    "\n",
    "with tf.device('/CPU:0'):\n",
    "#     input_shape = (train_data_oneDayChart.shape)\n",
    "    batch_size = 32\n",
    "    kernel_size = 3\n",
    "    latent_dim = 256\n",
    "    layer_filters = [64, 128, 256]\n",
    "\n",
    "    encoder_input = Input(shape=(28,44,3))\n",
    "\n",
    "    # 28 X 28\n",
    "    x = Conv2D(64, 3, padding='same')(encoder_input) \n",
    "    x = BatchNormalization()(x)\n",
    "    x = LeakyReLU()(x) \n",
    "\n",
    "    # 28 X 28 -> 14 X 14\n",
    "    x = Conv2D(128, 3, strides=2, padding='same')(x)\n",
    "    x = BatchNormalization()(x) \n",
    "    x = LeakyReLU()(x) \n",
    "\n",
    "    # 14 X 14 -> 7 X 7\n",
    "    x = Conv2D(256, 3, strides=2, padding='same')(x)\n",
    "    x = BatchNormalization()(x)\n",
    "    x = LeakyReLU()(x)\n",
    "\n",
    "    # 17 X 7\n",
    "    x = Conv2D(512, 3,strides=2,  padding='same')(x)\n",
    "    x = BatchNormalization()(x)\n",
    "    x = LeakyReLU()(x)\n",
    "\n",
    "    x = Flatten()(x)\n",
    "\n",
    "    # 2D 좌표로 표기하기 위하여 2를 출력값으로 지정합니다.\n",
    "    encoder_output = Dense(4)(x)\n",
    "\n",
    "\n",
    "\n",
    "    # Input으로는 2D 좌표가 들어갑니다.\n",
    "    decoder_input = Input(shape=(4, ))\n",
    "\n",
    "\n",
    "    x = Dense(7*11*512)(decoder_input)\n",
    "    x = Reshape( (7,11, 512))(x)\n",
    "\n",
    "    # 7 X 7 -> 7 X 7\n",
    "    x = Conv2DTranspose(512, 3, strides=2, padding='same')(x)\n",
    "    x = BatchNormalization()(x)\n",
    "    x = LeakyReLU()(x)\n",
    "\n",
    "    # 7 X 7 -> 14 X 14\n",
    "    x = Conv2DTranspose(256, 3, strides=2, padding='same')(x)\n",
    "    x = BatchNormalization()(x)\n",
    "    x = LeakyReLU()(x)\n",
    "\n",
    "    # 14 X 14 -> 28 X 28\n",
    "    x = Conv2DTranspose(128, 3, strides=2, padding='same')(x)\n",
    "    x = BatchNormalization()(x)\n",
    "    x = LeakyReLU()(x)\n",
    "\n",
    "    # 28 X 28 -> 28 X 28\n",
    "    x = Conv2DTranspose(64, 3, strides=1, padding='same')(x)\n",
    "    x = BatchNormalization()(x)\n",
    "    x = LeakyReLU()(x)\n",
    "\n",
    "    # 최종 output\n",
    "    decoder_output = Conv2DTranspose(3, 3, strides=1, padding='same', activation='tanh')(x)\n",
    "\n",
    "    encoder_day = Model(encoder_input, encoder_output)\n",
    "    decoder_day = Model(decoder_input, decoder_output)\n",
    "\n",
    "\n",
    "\n",
    "\n",
    "\n",
    "\n",
    "    encoder_in = Input(shape=(28, 44, 3))\n",
    "    LEARNING_RATE = 0.0005\n",
    "    BATCH_SIZE = 32\n",
    "    x = encoder_day(encoder_in)\n",
    "    decoder_out = decoder_day(x)\n",
    "\n",
    "\n",
    "    auto_encoder_day = Model(encoder_in, decoder_out)\n",
    "    encoder_day.summary()\n",
    "    decoder_day.summary()\n",
    "    auto_encoder_day.compile(optimizer=tf.keras.optimizers.Adam(LEARNING_RATE), loss=tf.keras.losses.MeanSquaredError())"
   ]
  },
  {
   "cell_type": "code",
   "execution_count": 24,
   "id": "3fed7d8b",
   "metadata": {},
   "outputs": [],
   "source": [
    "checkpoint_path = 'models/small_autoencoder_check_point.ckpt'\n",
    "checkpoint = ModelCheckpoint(checkpoint_path, \n",
    "                             save_best_only=True, \n",
    "                             save_weights_only=True, \n",
    "                             monitor='loss', \n",
    "                             verbose=1)"
   ]
  },
  {
   "cell_type": "code",
   "execution_count": 25,
   "id": "2a8953e8",
   "metadata": {},
   "outputs": [
    {
     "name": "stdout",
     "output_type": "stream",
     "text": [
      "Physical devices cannot be modified after being initialized\n"
     ]
    }
   ],
   "source": [
    "# NVDIA GPU 작동 설정 - 메모리 할당 관련 코드\n",
    "#NVIDIA GPU가 있지 않다면 코드 절대 실행 X\n",
    "\n",
    "gpus = tf.config.experimental.list_physical_devices('GPU') \n",
    "\n",
    "if gpus:\n",
    "    try:\n",
    "        tf.config.experimental.set_memory_growth(gpus[0], True)\n",
    "    except RuntimeError as e:\n",
    "        print(e)"
   ]
  },
  {
   "cell_type": "code",
   "execution_count": 26,
   "id": "45105370",
   "metadata": {},
   "outputs": [
    {
     "name": "stdout",
     "output_type": "stream",
     "text": [
      "Epoch 1/55\n",
      "3533/3533 [==============================] - 669s 189ms/step - loss: 0.0060 - val_loss: 3.8251e-04\n",
      "\n",
      "Epoch 00001: loss improved from inf to 0.00598, saving model to models\\small_autoencoder_check_point.ckpt\n",
      "Epoch 2/55\n",
      "3533/3533 [==============================] - 704s 199ms/step - loss: 2.1312e-04 - val_loss: 1.3591e-04\n",
      "\n",
      "Epoch 00002: loss improved from 0.00598 to 0.00021, saving model to models\\small_autoencoder_check_point.ckpt\n",
      "Epoch 3/55\n",
      "3533/3533 [==============================] - 707s 200ms/step - loss: 1.3657e-04 - val_loss: 1.5089e-04\n",
      "\n",
      "Epoch 00003: loss improved from 0.00021 to 0.00014, saving model to models\\small_autoencoder_check_point.ckpt\n",
      "Epoch 4/55\n",
      "3533/3533 [==============================] - 736s 208ms/step - loss: 1.0477e-04 - val_loss: 8.5706e-05\n",
      "\n",
      "Epoch 00004: loss improved from 0.00014 to 0.00010, saving model to models\\small_autoencoder_check_point.ckpt\n",
      "Epoch 5/55\n",
      "3533/3533 [==============================] - 728s 206ms/step - loss: 7.7931e-05 - val_loss: 6.2618e-05\n",
      "\n",
      "Epoch 00005: loss improved from 0.00010 to 0.00008, saving model to models\\small_autoencoder_check_point.ckpt\n",
      "Epoch 6/55\n",
      "3533/3533 [==============================] - 722s 204ms/step - loss: 7.1113e-05 - val_loss: 5.4458e-05\n",
      "\n",
      "Epoch 00006: loss improved from 0.00008 to 0.00007, saving model to models\\small_autoencoder_check_point.ckpt\n",
      "Epoch 7/55\n",
      "3533/3533 [==============================] - 721s 204ms/step - loss: 5.5046e-05 - val_loss: 4.6986e-05\n",
      "\n",
      "Epoch 00007: loss improved from 0.00007 to 0.00006, saving model to models\\small_autoencoder_check_point.ckpt\n",
      "Epoch 8/55\n",
      "3533/3533 [==============================] - 722s 204ms/step - loss: 5.3655e-05 - val_loss: 4.4279e-05\n",
      "\n",
      "Epoch 00008: loss improved from 0.00006 to 0.00005, saving model to models\\small_autoencoder_check_point.ckpt\n",
      "Epoch 9/55\n",
      "3533/3533 [==============================] - 721s 204ms/step - loss: 4.5366e-05 - val_loss: 4.0616e-05\n",
      "\n",
      "Epoch 00009: loss improved from 0.00005 to 0.00005, saving model to models\\small_autoencoder_check_point.ckpt\n",
      "Epoch 10/55\n",
      "3533/3533 [==============================] - 712s 201ms/step - loss: 4.1838e-05 - val_loss: 5.2543e-05\n",
      "\n",
      "Epoch 00010: loss improved from 0.00005 to 0.00004, saving model to models\\small_autoencoder_check_point.ckpt\n",
      "Epoch 11/55\n",
      "3533/3533 [==============================] - 720s 204ms/step - loss: 3.8238e-05 - val_loss: 4.1430e-05\n",
      "\n",
      "Epoch 00011: loss improved from 0.00004 to 0.00004, saving model to models\\small_autoencoder_check_point.ckpt\n",
      "Epoch 12/55\n",
      "3533/3533 [==============================] - 719s 203ms/step - loss: 2.9408e-05 - val_loss: 3.2989e-05\n",
      "\n",
      "Epoch 00012: loss improved from 0.00004 to 0.00003, saving model to models\\small_autoencoder_check_point.ckpt\n",
      "Epoch 13/55\n",
      "3533/3533 [==============================] - 718s 203ms/step - loss: 3.2613e-05 - val_loss: 2.3824e-05\n",
      "\n",
      "Epoch 00013: loss did not improve from 0.00003\n",
      "Epoch 14/55\n",
      "3533/3533 [==============================] - 719s 204ms/step - loss: 2.8359e-05 - val_loss: 4.3304e-05\n",
      "\n",
      "Epoch 00014: loss improved from 0.00003 to 0.00003, saving model to models\\small_autoencoder_check_point.ckpt\n",
      "Epoch 15/55\n",
      "3533/3533 [==============================] - 718s 203ms/step - loss: 2.6196e-05 - val_loss: 2.2062e-05\n",
      "\n",
      "Epoch 00015: loss improved from 0.00003 to 0.00003, saving model to models\\small_autoencoder_check_point.ckpt\n",
      "Epoch 16/55\n",
      "3533/3533 [==============================] - 709s 201ms/step - loss: 2.4647e-05 - val_loss: 6.7659e-04\n",
      "\n",
      "Epoch 00016: loss improved from 0.00003 to 0.00002, saving model to models\\small_autoencoder_check_point.ckpt\n",
      "Epoch 17/55\n",
      "3533/3533 [==============================] - 714s 202ms/step - loss: 2.0225e-05 - val_loss: 2.4643e-05\n",
      "\n",
      "Epoch 00017: loss improved from 0.00002 to 0.00002, saving model to models\\small_autoencoder_check_point.ckpt\n",
      "Epoch 18/55\n",
      "3533/3533 [==============================] - 726s 205ms/step - loss: 2.1230e-05 - val_loss: 2.3888e-05\n",
      "\n",
      "Epoch 00018: loss did not improve from 0.00002\n",
      "Epoch 19/55\n",
      "3533/3533 [==============================] - 723s 205ms/step - loss: 2.1567e-05 - val_loss: 1.6576e-05\n",
      "\n",
      "Epoch 00019: loss did not improve from 0.00002\n",
      "Epoch 20/55\n",
      "3533/3533 [==============================] - 721s 204ms/step - loss: 1.7372e-05 - val_loss: 1.8018e-05\n",
      "\n",
      "Epoch 00020: loss improved from 0.00002 to 0.00002, saving model to models\\small_autoencoder_check_point.ckpt\n",
      "Epoch 21/55\n",
      "3533/3533 [==============================] - 721s 204ms/step - loss: 1.8695e-05 - val_loss: 2.0040e-05\n",
      "\n",
      "Epoch 00021: loss did not improve from 0.00002\n",
      "Epoch 22/55\n",
      "3533/3533 [==============================] - 721s 204ms/step - loss: 1.6590e-05 - val_loss: 1.5941e-05\n",
      "\n",
      "Epoch 00022: loss improved from 0.00002 to 0.00002, saving model to models\\small_autoencoder_check_point.ckpt\n",
      "Epoch 23/55\n",
      "3533/3533 [==============================] - 718s 203ms/step - loss: 1.5932e-05 - val_loss: 1.6481e-05\n",
      "\n",
      "Epoch 00023: loss improved from 0.00002 to 0.00002, saving model to models\\small_autoencoder_check_point.ckpt\n",
      "Epoch 24/55\n",
      "3533/3533 [==============================] - 736s 208ms/step - loss: 1.9637e-05 - val_loss: 1.4436e-05\n",
      "\n",
      "Epoch 00024: loss did not improve from 0.00002\n",
      "Epoch 25/55\n",
      "3533/3533 [==============================] - 706s 200ms/step - loss: 1.4599e-05 - val_loss: 1.5358e-05\n",
      "\n",
      "Epoch 00025: loss improved from 0.00002 to 0.00001, saving model to models\\small_autoencoder_check_point.ckpt\n",
      "Epoch 26/55\n",
      "3533/3533 [==============================] - 718s 203ms/step - loss: 1.6787e-05 - val_loss: 1.3677e-05\n",
      "\n",
      "Epoch 00026: loss did not improve from 0.00001\n",
      "Epoch 27/55\n",
      "3533/3533 [==============================] - 722s 204ms/step - loss: 1.4153e-05 - val_loss: 1.9746e-05\n",
      "\n",
      "Epoch 00027: loss improved from 0.00001 to 0.00001, saving model to models\\small_autoencoder_check_point.ckpt\n",
      "Epoch 28/55\n",
      "3533/3533 [==============================] - 721s 204ms/step - loss: 2.4281e-05 - val_loss: 1.2438e-05\n",
      "\n",
      "Epoch 00028: loss did not improve from 0.00001\n",
      "Epoch 29/55\n",
      "3533/3533 [==============================] - 715s 202ms/step - loss: 1.3828e-05 - val_loss: 2.0336e-05\n",
      "\n",
      "Epoch 00029: loss improved from 0.00001 to 0.00001, saving model to models\\small_autoencoder_check_point.ckpt\n",
      "Epoch 30/55\n",
      "3533/3533 [==============================] - 716s 203ms/step - loss: 1.4961e-05 - val_loss: 1.1932e-05\n",
      "\n",
      "Epoch 00030: loss did not improve from 0.00001\n",
      "Epoch 31/55\n",
      "3533/3533 [==============================] - 716s 203ms/step - loss: 1.3008e-05 - val_loss: 1.1312e-05\n",
      "\n",
      "Epoch 00031: loss improved from 0.00001 to 0.00001, saving model to models\\small_autoencoder_check_point.ckpt\n",
      "Epoch 32/55\n",
      "3533/3533 [==============================] - 719s 204ms/step - loss: 1.2647e-05 - val_loss: 1.1292e-05\n",
      "\n",
      "Epoch 00032: loss improved from 0.00001 to 0.00001, saving model to models\\small_autoencoder_check_point.ckpt\n",
      "Epoch 33/55\n",
      "3533/3533 [==============================] - 717s 203ms/step - loss: 1.3956e-05 - val_loss: 1.1353e-05\n",
      "\n",
      "Epoch 00033: loss did not improve from 0.00001\n",
      "Epoch 34/55\n",
      "3533/3533 [==============================] - 716s 203ms/step - loss: 1.3724e-05 - val_loss: 3.2781e-04\n",
      "\n",
      "Epoch 00034: loss did not improve from 0.00001\n",
      "Epoch 35/55\n",
      "3533/3533 [==============================] - 718s 203ms/step - loss: 1.1299e-05 - val_loss: 1.0127e-05\n",
      "\n",
      "Epoch 00035: loss improved from 0.00001 to 0.00001, saving model to models\\small_autoencoder_check_point.ckpt\n",
      "Epoch 36/55\n",
      "3533/3533 [==============================] - 721s 204ms/step - loss: 1.1647e-05 - val_loss: 1.1134e-05\n",
      "\n",
      "Epoch 00036: loss did not improve from 0.00001\n",
      "Epoch 37/55\n",
      "3533/3533 [==============================] - 723s 205ms/step - loss: 1.1260e-05 - val_loss: 1.2345e-05\n",
      "\n",
      "Epoch 00037: loss improved from 0.00001 to 0.00001, saving model to models\\small_autoencoder_check_point.ckpt\n",
      "Epoch 38/55\n",
      "3533/3533 [==============================] - 721s 204ms/step - loss: 1.2685e-05 - val_loss: 1.0365e-05\n",
      "\n",
      "Epoch 00038: loss did not improve from 0.00001\n",
      "Epoch 39/55\n",
      "3533/3533 [==============================] - 714s 202ms/step - loss: 1.0842e-05 - val_loss: 2.9326e-05\n",
      "\n",
      "Epoch 00039: loss improved from 0.00001 to 0.00001, saving model to models\\small_autoencoder_check_point.ckpt\n",
      "Epoch 40/55\n",
      "3533/3533 [==============================] - 711s 201ms/step - loss: 1.0713e-05 - val_loss: 3.2741e-05\n",
      "\n",
      "Epoch 00040: loss improved from 0.00001 to 0.00001, saving model to models\\small_autoencoder_check_point.ckpt\n",
      "Epoch 41/55\n"
     ]
    },
    {
     "name": "stdout",
     "output_type": "stream",
     "text": [
      "3533/3533 [==============================] - 714s 202ms/step - loss: 1.0972e-05 - val_loss: 9.0697e-06\n",
      "\n",
      "Epoch 00041: loss did not improve from 0.00001\n",
      "Epoch 42/55\n",
      "3533/3533 [==============================] - 718s 203ms/step - loss: 1.0450e-05 - val_loss: 9.0018e-06\n",
      "\n",
      "Epoch 00042: loss improved from 0.00001 to 0.00001, saving model to models\\small_autoencoder_check_point.ckpt\n",
      "Epoch 43/55\n",
      "3533/3533 [==============================] - 721s 204ms/step - loss: 1.0255e-05 - val_loss: 2.6829e-05\n",
      "\n",
      "Epoch 00043: loss improved from 0.00001 to 0.00001, saving model to models\\small_autoencoder_check_point.ckpt\n",
      "Epoch 44/55\n",
      "3533/3533 [==============================] - 716s 203ms/step - loss: 1.0038e-05 - val_loss: 9.9061e-06\n",
      "\n",
      "Epoch 00044: loss improved from 0.00001 to 0.00001, saving model to models\\small_autoencoder_check_point.ckpt\n",
      "Epoch 45/55\n",
      "3533/3533 [==============================] - 713s 202ms/step - loss: 1.2075e-05 - val_loss: 8.6925e-06\n",
      "\n",
      "Epoch 00045: loss did not improve from 0.00001\n",
      "Epoch 46/55\n",
      "3533/3533 [==============================] - 715s 202ms/step - loss: 9.6726e-06 - val_loss: 1.2617e-05\n",
      "\n",
      "Epoch 00046: loss improved from 0.00001 to 0.00001, saving model to models\\small_autoencoder_check_point.ckpt\n",
      "Epoch 47/55\n",
      "3533/3533 [==============================] - 719s 204ms/step - loss: 9.7503e-06 - val_loss: 9.4183e-06\n",
      "\n",
      "Epoch 00047: loss did not improve from 0.00001\n",
      "Epoch 48/55\n",
      "3533/3533 [==============================] - 722s 204ms/step - loss: 9.7396e-06 - val_loss: 8.3517e-06\n",
      "\n",
      "Epoch 00048: loss did not improve from 0.00001\n",
      "Epoch 49/55\n",
      "3533/3533 [==============================] - 723s 205ms/step - loss: 9.6215e-06 - val_loss: 8.9053e-06\n",
      "\n",
      "Epoch 00049: loss improved from 0.00001 to 0.00001, saving model to models\\small_autoencoder_check_point.ckpt\n",
      "Epoch 50/55\n",
      "3533/3533 [==============================] - 724s 205ms/step - loss: 1.0528e-05 - val_loss: 9.0542e-06\n",
      "\n",
      "Epoch 00050: loss did not improve from 0.00001\n",
      "Epoch 51/55\n",
      "3533/3533 [==============================] - 723s 205ms/step - loss: 9.2341e-06 - val_loss: 9.8693e-06\n",
      "\n",
      "Epoch 00051: loss improved from 0.00001 to 0.00001, saving model to models\\small_autoencoder_check_point.ckpt\n",
      "Epoch 52/55\n",
      "3533/3533 [==============================] - 720s 204ms/step - loss: 9.1682e-06 - val_loss: 1.2865e-05\n",
      "\n",
      "Epoch 00052: loss improved from 0.00001 to 0.00001, saving model to models\\small_autoencoder_check_point.ckpt\n",
      "Epoch 53/55\n",
      "3533/3533 [==============================] - 722s 204ms/step - loss: 9.1436e-06 - val_loss: 8.8626e-06\n",
      "\n",
      "Epoch 00053: loss improved from 0.00001 to 0.00001, saving model to models\\small_autoencoder_check_point.ckpt\n",
      "Epoch 54/55\n",
      "3533/3533 [==============================] - 728s 206ms/step - loss: 9.0265e-06 - val_loss: 8.8013e-06\n",
      "\n",
      "Epoch 00054: loss improved from 0.00001 to 0.00001, saving model to models\\small_autoencoder_check_point.ckpt\n",
      "Epoch 55/55\n",
      "3533/3533 [==============================] - 738s 209ms/step - loss: 8.9815e-06 - val_loss: 8.0276e-06\n",
      "\n",
      "Epoch 00055: loss improved from 0.00001 to 0.00001, saving model to models\\small_autoencoder_check_point.ckpt\n"
     ]
    }
   ],
   "source": [
    "with tf.device('/CPU:0'):\n",
    "    auto_encoder_day.fit(train_data_oneDayChart, train_data_oneDayChart, epochs=55, batch_size=64, callbacks=[checkpoint], validation_data=(test_data_oneDayChart, test_data_oneDayChart))"
   ]
  },
  {
   "cell_type": "code",
   "execution_count": 28,
   "id": "cd7d13ca",
   "metadata": {
    "scrolled": true
   },
   "outputs": [
    {
     "ename": "ResourceExhaustedError",
     "evalue": "2 root error(s) found.\n  (0) Resource exhausted:  OOM when allocating tensor with shape[32,64,28,44] and type float on /job:localhost/replica:0/task:0/device:GPU:0 by allocator GPU_0_bfc\n\t [[node model_14/model_13/conv2d_transpose_22/conv2d_transpose (defined at \\AppData\\Local\\Temp/ipykernel_10368/1231674141.py:1) ]]\nHint: If you want to see a list of allocated tensors when OOM happens, add report_tensor_allocations_upon_oom to RunOptions for current allocation info. This isn't available when running in Eager mode.\n\n\t [[model_14/model_13/conv2d_transpose_24/Tanh/_113]]\nHint: If you want to see a list of allocated tensors when OOM happens, add report_tensor_allocations_upon_oom to RunOptions for current allocation info. This isn't available when running in Eager mode.\n\n  (1) Resource exhausted:  OOM when allocating tensor with shape[32,64,28,44] and type float on /job:localhost/replica:0/task:0/device:GPU:0 by allocator GPU_0_bfc\n\t [[node model_14/model_13/conv2d_transpose_22/conv2d_transpose (defined at \\AppData\\Local\\Temp/ipykernel_10368/1231674141.py:1) ]]\nHint: If you want to see a list of allocated tensors when OOM happens, add report_tensor_allocations_upon_oom to RunOptions for current allocation info. This isn't available when running in Eager mode.\n\n0 successful operations.\n0 derived errors ignored. [Op:__inference_predict_function_271142]\n\nFunction call stack:\npredict_function -> predict_function\n",
     "output_type": "error",
     "traceback": [
      "\u001b[1;31m---------------------------------------------------------------------------\u001b[0m",
      "\u001b[1;31mResourceExhaustedError\u001b[0m                    Traceback (most recent call last)",
      "\u001b[1;32m~\\AppData\\Local\\Temp/ipykernel_10368/1231674141.py\u001b[0m in \u001b[0;36m<module>\u001b[1;34m\u001b[0m\n\u001b[1;32m----> 1\u001b[1;33m \u001b[0men_train_data_day\u001b[0m \u001b[1;33m=\u001b[0m \u001b[0mauto_encoder_day\u001b[0m\u001b[1;33m.\u001b[0m\u001b[0mpredict\u001b[0m\u001b[1;33m(\u001b[0m\u001b[0mtrain_data_oneDayChart\u001b[0m\u001b[1;33m)\u001b[0m\u001b[1;33m\u001b[0m\u001b[1;33m\u001b[0m\u001b[0m\n\u001b[0m\u001b[0;32m      2\u001b[0m \u001b[0men_test_data_day\u001b[0m \u001b[1;33m=\u001b[0m  \u001b[0mauto_encoder_day\u001b[0m\u001b[1;33m.\u001b[0m\u001b[0mpredict\u001b[0m\u001b[1;33m(\u001b[0m\u001b[0mtest_data_oneDayChart\u001b[0m\u001b[1;33m)\u001b[0m\u001b[1;33m\u001b[0m\u001b[1;33m\u001b[0m\u001b[0m\n\u001b[0;32m      3\u001b[0m \u001b[1;33m\u001b[0m\u001b[0m\n\u001b[0;32m      4\u001b[0m \u001b[0mprint\u001b[0m\u001b[1;33m(\u001b[0m\u001b[1;36m1\u001b[0m\u001b[1;33m)\u001b[0m\u001b[1;33m\u001b[0m\u001b[1;33m\u001b[0m\u001b[0m\n\u001b[0;32m      5\u001b[0m \u001b[1;33m\u001b[0m\u001b[0m\n",
      "\u001b[1;32m~\\anaconda3\\lib\\site-packages\\keras\\engine\\training.py\u001b[0m in \u001b[0;36mpredict\u001b[1;34m(self, x, batch_size, verbose, steps, callbacks, max_queue_size, workers, use_multiprocessing)\u001b[0m\n\u001b[0;32m   1749\u001b[0m           \u001b[1;32mfor\u001b[0m \u001b[0mstep\u001b[0m \u001b[1;32min\u001b[0m \u001b[0mdata_handler\u001b[0m\u001b[1;33m.\u001b[0m\u001b[0msteps\u001b[0m\u001b[1;33m(\u001b[0m\u001b[1;33m)\u001b[0m\u001b[1;33m:\u001b[0m\u001b[1;33m\u001b[0m\u001b[1;33m\u001b[0m\u001b[0m\n\u001b[0;32m   1750\u001b[0m             \u001b[0mcallbacks\u001b[0m\u001b[1;33m.\u001b[0m\u001b[0mon_predict_batch_begin\u001b[0m\u001b[1;33m(\u001b[0m\u001b[0mstep\u001b[0m\u001b[1;33m)\u001b[0m\u001b[1;33m\u001b[0m\u001b[1;33m\u001b[0m\u001b[0m\n\u001b[1;32m-> 1751\u001b[1;33m             \u001b[0mtmp_batch_outputs\u001b[0m \u001b[1;33m=\u001b[0m \u001b[0mself\u001b[0m\u001b[1;33m.\u001b[0m\u001b[0mpredict_function\u001b[0m\u001b[1;33m(\u001b[0m\u001b[0miterator\u001b[0m\u001b[1;33m)\u001b[0m\u001b[1;33m\u001b[0m\u001b[1;33m\u001b[0m\u001b[0m\n\u001b[0m\u001b[0;32m   1752\u001b[0m             \u001b[1;32mif\u001b[0m \u001b[0mdata_handler\u001b[0m\u001b[1;33m.\u001b[0m\u001b[0mshould_sync\u001b[0m\u001b[1;33m:\u001b[0m\u001b[1;33m\u001b[0m\u001b[1;33m\u001b[0m\u001b[0m\n\u001b[0;32m   1753\u001b[0m               \u001b[0mcontext\u001b[0m\u001b[1;33m.\u001b[0m\u001b[0masync_wait\u001b[0m\u001b[1;33m(\u001b[0m\u001b[1;33m)\u001b[0m\u001b[1;33m\u001b[0m\u001b[1;33m\u001b[0m\u001b[0m\n",
      "\u001b[1;32m~\\anaconda3\\lib\\site-packages\\tensorflow\\python\\eager\\def_function.py\u001b[0m in \u001b[0;36m__call__\u001b[1;34m(self, *args, **kwds)\u001b[0m\n\u001b[0;32m    883\u001b[0m \u001b[1;33m\u001b[0m\u001b[0m\n\u001b[0;32m    884\u001b[0m       \u001b[1;32mwith\u001b[0m \u001b[0mOptionalXlaContext\u001b[0m\u001b[1;33m(\u001b[0m\u001b[0mself\u001b[0m\u001b[1;33m.\u001b[0m\u001b[0m_jit_compile\u001b[0m\u001b[1;33m)\u001b[0m\u001b[1;33m:\u001b[0m\u001b[1;33m\u001b[0m\u001b[1;33m\u001b[0m\u001b[0m\n\u001b[1;32m--> 885\u001b[1;33m         \u001b[0mresult\u001b[0m \u001b[1;33m=\u001b[0m \u001b[0mself\u001b[0m\u001b[1;33m.\u001b[0m\u001b[0m_call\u001b[0m\u001b[1;33m(\u001b[0m\u001b[1;33m*\u001b[0m\u001b[0margs\u001b[0m\u001b[1;33m,\u001b[0m \u001b[1;33m**\u001b[0m\u001b[0mkwds\u001b[0m\u001b[1;33m)\u001b[0m\u001b[1;33m\u001b[0m\u001b[1;33m\u001b[0m\u001b[0m\n\u001b[0m\u001b[0;32m    886\u001b[0m \u001b[1;33m\u001b[0m\u001b[0m\n\u001b[0;32m    887\u001b[0m       \u001b[0mnew_tracing_count\u001b[0m \u001b[1;33m=\u001b[0m \u001b[0mself\u001b[0m\u001b[1;33m.\u001b[0m\u001b[0mexperimental_get_tracing_count\u001b[0m\u001b[1;33m(\u001b[0m\u001b[1;33m)\u001b[0m\u001b[1;33m\u001b[0m\u001b[1;33m\u001b[0m\u001b[0m\n",
      "\u001b[1;32m~\\anaconda3\\lib\\site-packages\\tensorflow\\python\\eager\\def_function.py\u001b[0m in \u001b[0;36m_call\u001b[1;34m(self, *args, **kwds)\u001b[0m\n\u001b[0;32m    922\u001b[0m       \u001b[1;31m# In this case we have not created variables on the first call. So we can\u001b[0m\u001b[1;33m\u001b[0m\u001b[1;33m\u001b[0m\u001b[1;33m\u001b[0m\u001b[0m\n\u001b[0;32m    923\u001b[0m       \u001b[1;31m# run the first trace but we should fail if variables are created.\u001b[0m\u001b[1;33m\u001b[0m\u001b[1;33m\u001b[0m\u001b[1;33m\u001b[0m\u001b[0m\n\u001b[1;32m--> 924\u001b[1;33m       \u001b[0mresults\u001b[0m \u001b[1;33m=\u001b[0m \u001b[0mself\u001b[0m\u001b[1;33m.\u001b[0m\u001b[0m_stateful_fn\u001b[0m\u001b[1;33m(\u001b[0m\u001b[1;33m*\u001b[0m\u001b[0margs\u001b[0m\u001b[1;33m,\u001b[0m \u001b[1;33m**\u001b[0m\u001b[0mkwds\u001b[0m\u001b[1;33m)\u001b[0m\u001b[1;33m\u001b[0m\u001b[1;33m\u001b[0m\u001b[0m\n\u001b[0m\u001b[0;32m    925\u001b[0m       \u001b[1;32mif\u001b[0m \u001b[0mself\u001b[0m\u001b[1;33m.\u001b[0m\u001b[0m_created_variables\u001b[0m \u001b[1;32mand\u001b[0m \u001b[1;32mnot\u001b[0m \u001b[0mALLOW_DYNAMIC_VARIABLE_CREATION\u001b[0m\u001b[1;33m:\u001b[0m\u001b[1;33m\u001b[0m\u001b[1;33m\u001b[0m\u001b[0m\n\u001b[0;32m    926\u001b[0m         raise ValueError(\"Creating variables on a non-first call to a function\"\n",
      "\u001b[1;32m~\\anaconda3\\lib\\site-packages\\tensorflow\\python\\eager\\function.py\u001b[0m in \u001b[0;36m__call__\u001b[1;34m(self, *args, **kwargs)\u001b[0m\n\u001b[0;32m   3037\u001b[0m       (graph_function,\n\u001b[0;32m   3038\u001b[0m        filtered_flat_args) = self._maybe_define_function(args, kwargs)\n\u001b[1;32m-> 3039\u001b[1;33m     return graph_function._call_flat(\n\u001b[0m\u001b[0;32m   3040\u001b[0m         filtered_flat_args, captured_inputs=graph_function.captured_inputs)  # pylint: disable=protected-access\n\u001b[0;32m   3041\u001b[0m \u001b[1;33m\u001b[0m\u001b[0m\n",
      "\u001b[1;32m~\\anaconda3\\lib\\site-packages\\tensorflow\\python\\eager\\function.py\u001b[0m in \u001b[0;36m_call_flat\u001b[1;34m(self, args, captured_inputs, cancellation_manager)\u001b[0m\n\u001b[0;32m   1961\u001b[0m         and executing_eagerly):\n\u001b[0;32m   1962\u001b[0m       \u001b[1;31m# No tape is watching; skip to running the function.\u001b[0m\u001b[1;33m\u001b[0m\u001b[1;33m\u001b[0m\u001b[1;33m\u001b[0m\u001b[0m\n\u001b[1;32m-> 1963\u001b[1;33m       return self._build_call_outputs(self._inference_function.call(\n\u001b[0m\u001b[0;32m   1964\u001b[0m           ctx, args, cancellation_manager=cancellation_manager))\n\u001b[0;32m   1965\u001b[0m     forward_backward = self._select_forward_and_backward_functions(\n",
      "\u001b[1;32m~\\anaconda3\\lib\\site-packages\\tensorflow\\python\\eager\\function.py\u001b[0m in \u001b[0;36mcall\u001b[1;34m(self, ctx, args, cancellation_manager)\u001b[0m\n\u001b[0;32m    589\u001b[0m       \u001b[1;32mwith\u001b[0m \u001b[0m_InterpolateFunctionError\u001b[0m\u001b[1;33m(\u001b[0m\u001b[0mself\u001b[0m\u001b[1;33m)\u001b[0m\u001b[1;33m:\u001b[0m\u001b[1;33m\u001b[0m\u001b[1;33m\u001b[0m\u001b[0m\n\u001b[0;32m    590\u001b[0m         \u001b[1;32mif\u001b[0m \u001b[0mcancellation_manager\u001b[0m \u001b[1;32mis\u001b[0m \u001b[1;32mNone\u001b[0m\u001b[1;33m:\u001b[0m\u001b[1;33m\u001b[0m\u001b[1;33m\u001b[0m\u001b[0m\n\u001b[1;32m--> 591\u001b[1;33m           outputs = execute.execute(\n\u001b[0m\u001b[0;32m    592\u001b[0m               \u001b[0mstr\u001b[0m\u001b[1;33m(\u001b[0m\u001b[0mself\u001b[0m\u001b[1;33m.\u001b[0m\u001b[0msignature\u001b[0m\u001b[1;33m.\u001b[0m\u001b[0mname\u001b[0m\u001b[1;33m)\u001b[0m\u001b[1;33m,\u001b[0m\u001b[1;33m\u001b[0m\u001b[1;33m\u001b[0m\u001b[0m\n\u001b[0;32m    593\u001b[0m               \u001b[0mnum_outputs\u001b[0m\u001b[1;33m=\u001b[0m\u001b[0mself\u001b[0m\u001b[1;33m.\u001b[0m\u001b[0m_num_outputs\u001b[0m\u001b[1;33m,\u001b[0m\u001b[1;33m\u001b[0m\u001b[1;33m\u001b[0m\u001b[0m\n",
      "\u001b[1;32m~\\anaconda3\\lib\\site-packages\\tensorflow\\python\\eager\\execute.py\u001b[0m in \u001b[0;36mquick_execute\u001b[1;34m(op_name, num_outputs, inputs, attrs, ctx, name)\u001b[0m\n\u001b[0;32m     57\u001b[0m   \u001b[1;32mtry\u001b[0m\u001b[1;33m:\u001b[0m\u001b[1;33m\u001b[0m\u001b[1;33m\u001b[0m\u001b[0m\n\u001b[0;32m     58\u001b[0m     \u001b[0mctx\u001b[0m\u001b[1;33m.\u001b[0m\u001b[0mensure_initialized\u001b[0m\u001b[1;33m(\u001b[0m\u001b[1;33m)\u001b[0m\u001b[1;33m\u001b[0m\u001b[1;33m\u001b[0m\u001b[0m\n\u001b[1;32m---> 59\u001b[1;33m     tensors = pywrap_tfe.TFE_Py_Execute(ctx._handle, device_name, op_name,\n\u001b[0m\u001b[0;32m     60\u001b[0m                                         inputs, attrs, num_outputs)\n\u001b[0;32m     61\u001b[0m   \u001b[1;32mexcept\u001b[0m \u001b[0mcore\u001b[0m\u001b[1;33m.\u001b[0m\u001b[0m_NotOkStatusException\u001b[0m \u001b[1;32mas\u001b[0m \u001b[0me\u001b[0m\u001b[1;33m:\u001b[0m\u001b[1;33m\u001b[0m\u001b[1;33m\u001b[0m\u001b[0m\n",
      "\u001b[1;31mResourceExhaustedError\u001b[0m: 2 root error(s) found.\n  (0) Resource exhausted:  OOM when allocating tensor with shape[32,64,28,44] and type float on /job:localhost/replica:0/task:0/device:GPU:0 by allocator GPU_0_bfc\n\t [[node model_14/model_13/conv2d_transpose_22/conv2d_transpose (defined at \\AppData\\Local\\Temp/ipykernel_10368/1231674141.py:1) ]]\nHint: If you want to see a list of allocated tensors when OOM happens, add report_tensor_allocations_upon_oom to RunOptions for current allocation info. This isn't available when running in Eager mode.\n\n\t [[model_14/model_13/conv2d_transpose_24/Tanh/_113]]\nHint: If you want to see a list of allocated tensors when OOM happens, add report_tensor_allocations_upon_oom to RunOptions for current allocation info. This isn't available when running in Eager mode.\n\n  (1) Resource exhausted:  OOM when allocating tensor with shape[32,64,28,44] and type float on /job:localhost/replica:0/task:0/device:GPU:0 by allocator GPU_0_bfc\n\t [[node model_14/model_13/conv2d_transpose_22/conv2d_transpose (defined at \\AppData\\Local\\Temp/ipykernel_10368/1231674141.py:1) ]]\nHint: If you want to see a list of allocated tensors when OOM happens, add report_tensor_allocations_upon_oom to RunOptions for current allocation info. This isn't available when running in Eager mode.\n\n0 successful operations.\n0 derived errors ignored. [Op:__inference_predict_function_271142]\n\nFunction call stack:\npredict_function -> predict_function\n"
     ]
    }
   ],
   "source": [
    "en_train_data_day = auto_encoder_day.predict(train_data_oneDayChart)\n",
    "en_test_data_day =  auto_encoder_day.predict(test_data_oneDayChart)\n",
    "\n",
    "print(1)"
   ]
  },
  {
   "cell_type": "code",
   "execution_count": 29,
   "id": "775753fb",
   "metadata": {},
   "outputs": [
    {
     "name": "stdout",
     "output_type": "stream",
     "text": [
      "WARNING:tensorflow:Compiled the loaded model, but the compiled metrics have yet to be built. `model.compile_metrics` will be empty until you train or evaluate the model.\n",
      "WARNING:tensorflow:Compiled the loaded model, but the compiled metrics have yet to be built. `model.compile_metrics` will be empty until you train or evaluate the model.\n"
     ]
    }
   ],
   "source": [
    "from keras.models import load_model\n",
    "auto_encoder_day.save('models/auto_encoder_output_oneDayChart_28_44_4.h5')\n",
    "encoder_day.save('models/encoder_output_oneDayChart_28_44_4.h5')\n",
    "decoder_day.save('models/decoder/decoder_output_oneDayChart_28_44_4.h5')"
   ]
  },
  {
   "cell_type": "code",
   "execution_count": 197,
   "id": "4b7b71dd",
   "metadata": {},
   "outputs": [],
   "source": [
    "def make_data_for_dnn(day,week,month,next_day):\n",
    "\n",
    "    encoder_day =  load_model('models/encoder/small_encoder_28_44_4.h5')\n",
    "    encoder_week =  load_model('models/decoder/small_decoder_28_44_4.h5')\n",
    "    encoder_month =  load_model('models/decoder/small_decoder_28_44_4.h5')\n",
    "    \n",
    "    day_val = encoder_day.predict(day)\n",
    "    week_val = encoder_week.predict(week)\n",
    "    month_val = encoder_month.predict(month)\n",
    "    \n",
    "    next_day = encoder_day.predict(next_day)\n",
    "    \n",
    "    return list(day_val+ week_val+ month_val)\n"
   ]
  },
  {
   "cell_type": "code",
   "execution_count": 223,
   "id": "3db6804d",
   "metadata": {},
   "outputs": [
    {
     "ename": "NameError",
     "evalue": "name 'df' is not defined",
     "output_type": "error",
     "traceback": [
      "\u001b[0;31m---------------------------------------------------------------------------\u001b[0m",
      "\u001b[0;31mNameError\u001b[0m                                 Traceback (most recent call last)",
      "\u001b[0;32m<ipython-input-223-dc088cc683ac>\u001b[0m in \u001b[0;36m<module>\u001b[0;34m\u001b[0m\n\u001b[1;32m      8\u001b[0m \u001b[0;34m\u001b[0m\u001b[0m\n\u001b[1;32m      9\u001b[0m \u001b[0;34m\u001b[0m\u001b[0m\n\u001b[0;32m---> 10\u001b[0;31m \u001b[0mhistory\u001b[0m \u001b[0;34m=\u001b[0m \u001b[0mmodel_dnn\u001b[0m\u001b[0;34m.\u001b[0m\u001b[0mfit\u001b[0m\u001b[0;34m(\u001b[0m\u001b[0mdf\u001b[0m\u001b[0;34m[\u001b[0m\u001b[0;34m:\u001b[0m\u001b[0;34m,\u001b[0m\u001b[0;36m0\u001b[0m\u001b[0;34m:\u001b[0m\u001b[0;36m4\u001b[0m\u001b[0;34m]\u001b[0m\u001b[0;34m,\u001b[0m\u001b[0mdf\u001b[0m\u001b[0;34m[\u001b[0m\u001b[0;34m:\u001b[0m\u001b[0;34m,\u001b[0m\u001b[0;34m-\u001b[0m\u001b[0;36m1\u001b[0m\u001b[0;34m]\u001b[0m\u001b[0;34m,\u001b[0m\u001b[0msteps_per_epoch\u001b[0m \u001b[0;34m=\u001b[0m \u001b[0;36m10\u001b[0m \u001b[0;34m,\u001b[0m\u001b[0mepochs\u001b[0m \u001b[0;34m=\u001b[0m \u001b[0;36m700\u001b[0m\u001b[0;34m,\u001b[0m\u001b[0mvalidation_data\u001b[0m \u001b[0;34m=\u001b[0m \u001b[0;34m(\u001b[0m\u001b[0mdf_test\u001b[0m\u001b[0;34m[\u001b[0m\u001b[0;34m:\u001b[0m\u001b[0;34m,\u001b[0m\u001b[0;36m0\u001b[0m\u001b[0;34m:\u001b[0m\u001b[0;36m4\u001b[0m\u001b[0;34m]\u001b[0m\u001b[0;34m,\u001b[0m\u001b[0mdf_test\u001b[0m\u001b[0;34m[\u001b[0m\u001b[0;34m:\u001b[0m\u001b[0;34m,\u001b[0m\u001b[0;34m-\u001b[0m\u001b[0;36m1\u001b[0m\u001b[0;34m]\u001b[0m\u001b[0;34m)\u001b[0m\u001b[0;34m,\u001b[0m\u001b[0mvalidation_steps\u001b[0m \u001b[0;34m=\u001b[0m\u001b[0;36m15\u001b[0m\u001b[0;34m)\u001b[0m\u001b[0;34m\u001b[0m\u001b[0;34m\u001b[0m\u001b[0m\n\u001b[0m",
      "\u001b[0;31mNameError\u001b[0m: name 'df' is not defined"
     ]
    }
   ],
   "source": [
    "encoder_input_day = Input(shape=(1,10))\n",
    "x_day = keras.layers.Dense(10, activation='relu')(encoder_input_day)\n",
    "x_day = keras.layers.Dense(6, activation='relu')(x_day)\n",
    "x_month = Dense(4, activation='relu')(x_day)\n",
    "x_month = Dense(4)(x_day)\n",
    "\n",
    "model_dnn = Model(inputs= encoder_input_day,outputs = x_month)\n",
    "\n",
    "\n",
    "history = model_dnn.fit(df[:,0:4],df[:,-1],steps_per_epoch = 10 ,epochs = 700,validation_data = (df_test[:,0:4],df_test[:,-1]),validation_steps =15)\n"
   ]
  },
  {
   "cell_type": "code",
   "execution_count": 222,
   "id": "99558439",
   "metadata": {
    "scrolled": true
   },
   "outputs": [
    {
     "ename": "TypeError",
     "evalue": "Inputs to a layer should be tensors. Got: <keras.layers.merge.Concatenate object at 0x7f7e25c21130>",
     "output_type": "error",
     "traceback": [
      "\u001b[0;31m---------------------------------------------------------------------------\u001b[0m",
      "\u001b[0;31mTypeError\u001b[0m                                 Traceback (most recent call last)",
      "\u001b[0;32m<ipython-input-222-8d571ac1c39b>\u001b[0m in \u001b[0;36m<module>\u001b[0;34m\u001b[0m\n\u001b[1;32m     18\u001b[0m \u001b[0;34m\u001b[0m\u001b[0m\n\u001b[1;32m     19\u001b[0m \u001b[0;34m\u001b[0m\u001b[0m\n\u001b[0;32m---> 20\u001b[0;31m \u001b[0mx\u001b[0m \u001b[0;34m=\u001b[0m \u001b[0mtf\u001b[0m\u001b[0;34m.\u001b[0m\u001b[0mkeras\u001b[0m\u001b[0;34m.\u001b[0m\u001b[0mlayers\u001b[0m\u001b[0;34m.\u001b[0m\u001b[0mDense\u001b[0m\u001b[0;34m(\u001b[0m\u001b[0;36m1\u001b[0m\u001b[0;34m,\u001b[0m \u001b[0mactivation\u001b[0m\u001b[0;34m=\u001b[0m\u001b[0;34m'relu'\u001b[0m\u001b[0;34m)\u001b[0m\u001b[0;34m(\u001b[0m\u001b[0minu\u001b[0m\u001b[0;34m)\u001b[0m\u001b[0;34m\u001b[0m\u001b[0;34m\u001b[0m\u001b[0m\n\u001b[0m\u001b[1;32m     21\u001b[0m \u001b[0moutput\u001b[0m \u001b[0;34m=\u001b[0m \u001b[0mtf\u001b[0m\u001b[0;34m.\u001b[0m\u001b[0mkeras\u001b[0m\u001b[0;34m.\u001b[0m\u001b[0mlayers\u001b[0m\u001b[0;34m.\u001b[0m\u001b[0mDense\u001b[0m\u001b[0;34m(\u001b[0m\u001b[0;36m4\u001b[0m\u001b[0;34m)\u001b[0m\u001b[0;34m(\u001b[0m\u001b[0mx\u001b[0m\u001b[0;34m)\u001b[0m\u001b[0;34m\u001b[0m\u001b[0;34m\u001b[0m\u001b[0m\n\u001b[1;32m     22\u001b[0m \u001b[0;34m\u001b[0m\u001b[0m\n",
      "\u001b[0;32m~/opt/anaconda3/lib/python3.8/site-packages/keras/utils/traceback_utils.py\u001b[0m in \u001b[0;36merror_handler\u001b[0;34m(*args, **kwargs)\u001b[0m\n\u001b[1;32m     65\u001b[0m     \u001b[0;32mexcept\u001b[0m \u001b[0mException\u001b[0m \u001b[0;32mas\u001b[0m \u001b[0me\u001b[0m\u001b[0;34m:\u001b[0m  \u001b[0;31m# pylint: disable=broad-except\u001b[0m\u001b[0;34m\u001b[0m\u001b[0;34m\u001b[0m\u001b[0m\n\u001b[1;32m     66\u001b[0m       \u001b[0mfiltered_tb\u001b[0m \u001b[0;34m=\u001b[0m \u001b[0m_process_traceback_frames\u001b[0m\u001b[0;34m(\u001b[0m\u001b[0me\u001b[0m\u001b[0;34m.\u001b[0m\u001b[0m__traceback__\u001b[0m\u001b[0;34m)\u001b[0m\u001b[0;34m\u001b[0m\u001b[0;34m\u001b[0m\u001b[0m\n\u001b[0;32m---> 67\u001b[0;31m       \u001b[0;32mraise\u001b[0m \u001b[0me\u001b[0m\u001b[0;34m.\u001b[0m\u001b[0mwith_traceback\u001b[0m\u001b[0;34m(\u001b[0m\u001b[0mfiltered_tb\u001b[0m\u001b[0;34m)\u001b[0m \u001b[0;32mfrom\u001b[0m \u001b[0;32mNone\u001b[0m\u001b[0;34m\u001b[0m\u001b[0;34m\u001b[0m\u001b[0m\n\u001b[0m\u001b[1;32m     68\u001b[0m     \u001b[0;32mfinally\u001b[0m\u001b[0;34m:\u001b[0m\u001b[0;34m\u001b[0m\u001b[0;34m\u001b[0m\u001b[0m\n\u001b[1;32m     69\u001b[0m       \u001b[0;32mdel\u001b[0m \u001b[0mfiltered_tb\u001b[0m\u001b[0;34m\u001b[0m\u001b[0;34m\u001b[0m\u001b[0m\n",
      "\u001b[0;32m~/opt/anaconda3/lib/python3.8/site-packages/keras/engine/input_spec.py\u001b[0m in \u001b[0;36massert_input_compatibility\u001b[0;34m(input_spec, inputs, layer_name)\u001b[0m\n\u001b[1;32m    194\u001b[0m     \u001b[0;31m# have a `shape` attribute.\u001b[0m\u001b[0;34m\u001b[0m\u001b[0;34m\u001b[0m\u001b[0;34m\u001b[0m\u001b[0m\n\u001b[1;32m    195\u001b[0m     \u001b[0;32mif\u001b[0m \u001b[0;32mnot\u001b[0m \u001b[0mhasattr\u001b[0m\u001b[0;34m(\u001b[0m\u001b[0mx\u001b[0m\u001b[0;34m,\u001b[0m \u001b[0;34m'shape'\u001b[0m\u001b[0;34m)\u001b[0m\u001b[0;34m:\u001b[0m\u001b[0;34m\u001b[0m\u001b[0;34m\u001b[0m\u001b[0m\n\u001b[0;32m--> 196\u001b[0;31m       \u001b[0;32mraise\u001b[0m \u001b[0mTypeError\u001b[0m\u001b[0;34m(\u001b[0m\u001b[0;34mf'Inputs to a layer should be tensors. Got: {x}'\u001b[0m\u001b[0;34m)\u001b[0m\u001b[0;34m\u001b[0m\u001b[0;34m\u001b[0m\u001b[0m\n\u001b[0m\u001b[1;32m    197\u001b[0m \u001b[0;34m\u001b[0m\u001b[0m\n\u001b[1;32m    198\u001b[0m   \u001b[0;32mif\u001b[0m \u001b[0mlen\u001b[0m\u001b[0;34m(\u001b[0m\u001b[0minputs\u001b[0m\u001b[0;34m)\u001b[0m \u001b[0;34m!=\u001b[0m \u001b[0mlen\u001b[0m\u001b[0;34m(\u001b[0m\u001b[0minput_spec\u001b[0m\u001b[0;34m)\u001b[0m\u001b[0;34m:\u001b[0m\u001b[0;34m\u001b[0m\u001b[0;34m\u001b[0m\u001b[0m\n",
      "\u001b[0;31mTypeError\u001b[0m: Inputs to a layer should be tensors. Got: <keras.layers.merge.Concatenate object at 0x7f7e25c21130>"
     ]
    }
   ],
   "source": [
    "# 5번과 7번 분류 65% 추세 넣어서 \n",
    "# 5번과 7번 분류 70% 추세 안넣어서 import_train 으로 \n",
    "import keras\n",
    "from keras.layers import Concatenate\n",
    "\n",
    "encoder_input_day = Input(shape=(1,4))\n",
    "encoder_input_week = Input(shape=(1,3))\n",
    "encoder_input_month = Input(shape=(1,3))\n",
    "\n",
    "\n",
    "\n",
    "x_day = keras.layers.Dense(10, activation='relu')(encoder_input_day)\n",
    "x_week = keras.layers.Dense(10, activation='relu')(encoder_input_week)\n",
    "x_month = Dense(14, activation='relu')(encoder_input_month)\n",
    "\n",
    "\n",
    "inu = Concatenate([x_day,x_week,x_month])\n",
    "\n",
    "\n",
    "x = tf.keras.layers.Dense(1, activation='relu')(inu)\n",
    "output = tf.keras.layers.Dense(4)(x)\n",
    "\n",
    "# model_dnn.compile(optimizer='adam',\n",
    "#               loss='mse',\n",
    "#              )\n",
    "\n",
    "\n",
    "# model_dnn = Model(inputs=[encoder_input_day,encoder_input_week,encoder_input_month],outputs = output)\n",
    "\n",
    "# history = model_dnn.fit(np.array(p),np.array(xy[:,1]),steps_per_epoch = 10 ,epochs = 700,validation_data = (np.array(p_k),np.array(vr[:,1])),validation_steps =15)\n",
    "\n"
   ]
  },
  {
   "cell_type": "markdown",
   "id": "ed5c98bc",
   "metadata": {},
   "source": [
    "# Result"
   ]
  },
  {
   "cell_type": "code",
   "execution_count": 183,
   "id": "e21e9666",
   "metadata": {},
   "outputs": [
    {
     "data": {
      "text/plain": [
       "<matplotlib.image.AxesImage at 0x7f7e2e85f850>"
      ]
     },
     "execution_count": 183,
     "metadata": {},
     "output_type": "execute_result"
    },
    {
     "data": {
      "image/png": "[encoded data removed]",
      "text/plain": [
       "<Figure size 432x288 with 1 Axes>"
      ]
     },
     "metadata": {
      "needs_background": "light"
     },
     "output_type": "display_data"
    }
   ],
   "source": [
    "plt.imshow(np.array(testX[3]))\n",
    "\n",
    "\n"
   ]
  },
  {
   "cell_type": "code",
   "execution_count": 184,
   "id": "e4db4ec9",
   "metadata": {
    "scrolled": true
   },
   "outputs": [
    {
     "data": {
      "text/plain": [
       "<matplotlib.image.AxesImage at 0x7f7e2eb01e20>"
      ]
     },
     "execution_count": 184,
     "metadata": {},
     "output_type": "execute_result"
    },
    {
     "data": {
      "image/png": "[encoded data removed]",
      "text/plain": [
       "<Figure size 432x288 with 1 Axes>"
      ]
     },
     "metadata": {
      "needs_background": "light"
     },
     "output_type": "display_data"
    }
   ],
   "source": [
    "plt.imshow(np.array(test_data[3]))\n"
   ]
  },
  {
   "cell_type": "code",
   "execution_count": 28,
   "id": "2d7c739a",
   "metadata": {},
   "outputs": [
    {
     "name": "stdout",
     "output_type": "stream",
     "text": [
      "WARNING:tensorflow:5 out of the last 2584 calls to <function Model.make_predict_function.<locals>.predict_function at 0x000001A046D39160> triggered tf.function retracing. Tracing is expensive and the excessive number of tracings could be due to (1) creating @tf.function repeatedly in a loop, (2) passing tensors with different shapes, (3) passing Python objects instead of tensors. For (1), please define your @tf.function outside of the loop. For (2), @tf.function has experimental_relax_shapes=True option that relaxes argument shapes that can avoid unnecessary retracing. For (3), please refer to https://www.tensorflow.org/guide/function#controlling_retracing and https://www.tensorflow.org/api_docs/python/tf/function for  more details.\n",
      "[[ -459.4101    -1014.7185      683.8709       12.1562805]]\n",
      "WARNING:tensorflow:6 out of the last 2585 calls to <function Model.make_predict_function.<locals>.predict_function at 0x000001A0520924C0> triggered tf.function retracing. Tracing is expensive and the excessive number of tracings could be due to (1) creating @tf.function repeatedly in a loop, (2) passing tensors with different shapes, (3) passing Python objects instead of tensors. For (1), please define your @tf.function outside of the loop. For (2), @tf.function has experimental_relax_shapes=True option that relaxes argument shapes that can avoid unnecessary retracing. For (3), please refer to https://www.tensorflow.org/guide/function#controlling_retracing and https://www.tensorflow.org/api_docs/python/tf/function for  more details.\n"
     ]
    },
    {
     "name": "stderr",
     "output_type": "stream",
     "text": [
      "Clipping input data to the valid range for imshow with RGB data ([0..1] for floats or [0..255] for integers).\n"
     ]
    },
    {
     "data": {
      "text/plain": [
       "<matplotlib.image.AxesImage at 0x1a04ea43850>"
      ]
     },
     "execution_count": 28,
     "metadata": {},
     "output_type": "execute_result"
    },
    {
     "data": {
      "image/png": "[encoded data removed]",
      "text/plain": [
       "<Figure size 432x288 with 1 Axes>"
      ]
     },
     "metadata": {
      "needs_background": "light"
     },
     "output_type": "display_data"
    }
   ],
   "source": [
    "import PIL.Image as pilimg\n",
    "import numpy as np\n",
    "from keras.models import load_model\n",
    "import pandas as pd\n",
    "import os\n",
    "import datetime\n",
    "import matplotlib.pyplot as plt\n",
    "\n",
    "def convertImgToArray(path):\n",
    "    im = np.array(pilimg.open(\"{}\".format(path)))\n",
    "    im = im.reshape(1,28, 44, 3)\n",
    "    return [im]\n",
    "\n",
    "\n",
    "\n",
    "\n",
    "t = encoder.predict(convertImgToArray('stock_data/image_train/dayChart/dayChart1/000020_20210608.jpg')) \n",
    "p = p[0]\n",
    "plt.imshow(p)\n",
    "\n",
    "p = decoder.predict(t) \n",
    "p = p[0]\n",
    "plt.imshow(p)"
   ]
  },
  {
   "cell_type": "code",
   "execution_count": 27,
   "id": "fdff80a2",
   "metadata": {},
   "outputs": [
    {
     "name": "stdout",
     "output_type": "stream",
     "text": [
      "WARNING:tensorflow:No training configuration found in the save file, so the model was *not* compiled. Compile it manually.\n",
      "WARNING:tensorflow:No training configuration found in the save file, so the model was *not* compiled. Compile it manually.\n"
     ]
    }
   ],
   "source": [
    "encoder = load_model('models/encoder_day_28_44_4.h5')\n",
    "autoencoder = load_model('models/auto_encoder_day_28_44_4.h5')\n",
    "decoder = load_model('models/decoder_day_28_44_4.h5')"
   ]
  }
 ],
 "metadata": {
  "kernelspec": {
   "display_name": "Python 3 (ipykernel)",
   "language": "python",
   "name": "python3"
  },
  "language_info": {
   "codemirror_mode": {
    "name": "ipython",
    "version": 3
   },
   "file_extension": ".py",
   "mimetype": "text/x-python",
   "name": "python",
   "nbconvert_exporter": "python",
   "pygments_lexer": "ipython3",
   "version": "3.11.4"
  },
  "varInspector": {
   "cols": {
    "lenName": 16,
    "lenType": 16,
    "lenVar": 40
   },
   "kernels_config": {
    "python": {
     "delete_cmd_postfix": "",
     "delete_cmd_prefix": "del ",
     "library": "var_list.py",
     "varRefreshCmd": "print(var_dic_list())"
    },
    "r": {
     "delete_cmd_postfix": ") ",
     "delete_cmd_prefix": "rm(",
     "library": "var_list.r",
     "varRefreshCmd": "cat(var_dic_list()) "
    }
   },
   "types_to_exclude": [
    "module",
    "function",
    "builtin_function_or_method",
    "instance",
    "_Feature"
   ],
   "window_display": false
  }
 },
 "nbformat": 4,
 "nbformat_minor": 5
}
